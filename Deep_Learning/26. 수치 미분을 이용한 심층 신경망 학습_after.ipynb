{
 "cells": [
  {
   "cell_type": "markdown",
   "metadata": {},
   "source": [
    "## 수치 미분을 이용한 심층 신경망 학습"
   ]
  },
  {
   "cell_type": "code",
   "execution_count": 1,
   "metadata": {},
   "outputs": [],
   "source": [
    "import time\n",
    "import numpy as np"
   ]
  },
  {
   "cell_type": "markdown",
   "metadata": {},
   "source": [
    "## 유틸리티 함수"
   ]
  },
  {
   "cell_type": "code",
   "execution_count": 2,
   "metadata": {},
   "outputs": [],
   "source": [
    "epsilon = 0.0001\n",
    "\n",
    "def _t(x):\n",
    "    return np.transpose(x)\n",
    "\n",
    "def _m(A, B):\n",
    "    return np.matmul(A, B)\n",
    "\n",
    "def sigmoid(x):\n",
    "    return 1 / (1 + np.exp(-x))\n",
    "\n",
    "def mean_squared_error(h, y):\n",
    "    return 1 / 2 * np.mean(np.square(h - y))"
   ]
  },
  {
   "cell_type": "markdown",
   "metadata": {},
   "source": [
    "## 뉴런 구현"
   ]
  },
  {
   "cell_type": "code",
   "execution_count": 3,
   "metadata": {},
   "outputs": [],
   "source": [
    "class Neuron:\n",
    "    def __init__(self, W, b, a):\n",
    "        # Model Parameter\n",
    "        self.W = W\n",
    "        self.b = b\n",
    "        self.a = a\n",
    "        \n",
    "        # Gradients\n",
    "        self.dW = np.zeros_like(self.W)\n",
    "        self.db = np.zeros_like(self.b)\n",
    "\n",
    "    def __call__(self, x):\n",
    "        return self.a(_m(_t(self.W), x) + self.b) # activation((W^T)x + b)"
   ]
  },
  {
   "cell_type": "markdown",
   "metadata": {},
   "source": [
    "## 심층신경망 구현"
   ]
  },
  {
   "cell_type": "code",
   "execution_count": 11,
   "metadata": {},
   "outputs": [],
   "source": [
    "class DNN:\n",
    "    def __init__(self, hidden_depth, num_neuron, num_input, num_output, activation=sigmoid):\n",
    "        def init_var(i, o):\n",
    "            return np.random.normal(0.0, 0.01, (i, o)), np.zeros((o,))\n",
    "\n",
    "        self.sequence = list()\n",
    "        # First hidden layer\n",
    "        W, b = init_var(num_input, num_neuron)\n",
    "        self.sequence.append(Neuron(W, b, activation))\n",
    "        \n",
    "        # Hidden layers\n",
    "        for _ in range(hidden_depth - 1):\n",
    "            W, b = init_var(num_neuron, num_neuron)\n",
    "            self.sequence.append(Neuron(W, b, activation))\n",
    "\n",
    "        # Output layer\n",
    "        W, b = init_var(num_neuron, num_output)\n",
    "        self.sequence.append(Neuron(W, b, activation))\n",
    "\n",
    "    def __call__(self, x):\n",
    "        for layer in self.sequence:\n",
    "            x = layer(x)\n",
    "        return x\n",
    "\n",
    "    def calc_gradient(self, x, y, loss_func):\n",
    "        def get_new_sequence(layer_index, new_neuron):\n",
    "            new_sequence = list()\n",
    "            for i, layer in enumerate(self.sequence):\n",
    "                if i == layer_index:\n",
    "                    new_sequence.append(new_neuron)\n",
    "                else:\n",
    "                    new_sequence.append(layer)\n",
    "            return new_sequence\n",
    "        \n",
    "        def eval_sequence(x, sequence):\n",
    "            for layer in sequence:\n",
    "                x = layer(x)\n",
    "            return x\n",
    "        \n",
    "        loss = loss_func(self(x), y)\n",
    "        \n",
    "        for layer_id, layer in enumerate(self.sequence): # iterate layer\n",
    "            for w_i, w in enumerate(layer.W): # iterate W (row)\n",
    "                for w_j, ww in enumerate(w): # iterate W (col)\n",
    "                    W = np.copy(layer.W)\n",
    "                    W[w_i][w_j] = ww + epsilon\n",
    "                    \n",
    "                    new_neuron = Neuron(W, layer.b, layer.a)\n",
    "                    new_seq = get_new_sequence(layer_id, new_neuron)\n",
    "                    h = eval_sequence(x, new_seq)\n",
    "                    \n",
    "                    num_grad = (loss_func(h, y) - loss) / epsilon  # (f(x+eps) - f(x)) / epsilon\n",
    "                    layer.dW[w_i][w_j] = num_grad\n",
    "            \n",
    "                for b_i, bb in enumerate(layer.b): # iterate b\n",
    "                    b = np.copy(layer.b)\n",
    "                    b[b_i] = bb + epsilon\n",
    "                    \n",
    "                    new_neuron = Neuron(layer.W, b, layer.a)\n",
    "                    new_seq = get_new_sequence(layer_id, new_neuron)\n",
    "                    h = eval_sequence(x, new_seq)\n",
    "                    \n",
    "                    num_grad = (loss_func(h, y) - loss) / epsilon  # (f(x+eps) - f(x)) / epsilon\n",
    "                    layer.db[b_i] = num_grad\n",
    "        return loss"
   ]
  },
  {
   "cell_type": "markdown",
   "metadata": {},
   "source": [
    "## 경사하강 학습법"
   ]
  },
  {
   "cell_type": "code",
   "execution_count": 12,
   "metadata": {},
   "outputs": [],
   "source": [
    "def gradient_descent(network, x, y, loss_obj, alpha=0.01):\n",
    "    loss = network.calc_gradient(x, y, loss_obj)\n",
    "    for layer in network.sequence:\n",
    "        layer.W += -alpha * layer.dW\n",
    "        layer.b += -alpha * layer.db\n",
    "    return loss"
   ]
  },
  {
   "cell_type": "markdown",
   "metadata": {},
   "source": [
    "## 동작 테스트"
   ]
  },
  {
   "cell_type": "code",
   "execution_count": 13,
   "metadata": {},
   "outputs": [
    {
     "name": "stdout",
     "output_type": "stream",
     "text": [
      "Epoch 0: Test loss 0.5788407666374237\n",
      "Epoch 1: Test loss 0.5755734143209582\n",
      "Epoch 2: Test loss 0.5723271009377402\n",
      "Epoch 3: Test loss 0.5691025121018389\n",
      "Epoch 4: Test loss 0.565900303856321\n",
      "Epoch 5: Test loss 0.5627211022628145\n",
      "Epoch 6: Test loss 0.5595655030828444\n",
      "Epoch 7: Test loss 0.5564340715483467\n",
      "Epoch 8: Test loss 0.5533273422196228\n",
      "Epoch 9: Test loss 0.5502458189274984\n",
      "Epoch 10: Test loss 0.5471899747975388\n",
      "Epoch 11: Test loss 0.5441602523521142\n",
      "Epoch 12: Test loss 0.5411570636878636\n",
      "Epoch 13: Test loss 0.5381807907236237\n",
      "Epoch 14: Test loss 0.5352317855158888\n",
      "Epoch 15: Test loss 0.5323103706372936\n",
      "Epoch 16: Test loss 0.5294168396136355\n",
      "Epoch 17: Test loss 0.5265514574157897\n",
      "Epoch 18: Test loss 0.5237144610016138\n",
      "Epoch 19: Test loss 0.5209060599039174\n",
      "Epoch 20: Test loss 0.5181264368597148\n",
      "Epoch 21: Test loss 0.5153757484771767\n",
      "Epoch 22: Test loss 0.5126541259349413\n",
      "Epoch 23: Test loss 0.5099616757111709\n",
      "Epoch 24: Test loss 0.5072984803367891\n",
      "Epoch 25: Test loss 0.5046645991699578\n",
      "Epoch 26: Test loss 0.502060069187994\n",
      "Epoch 27: Test loss 0.49948490579254\n",
      "Epoch 28: Test loss 0.4969391036250991\n",
      "Epoch 29: Test loss 0.4944226373896834\n",
      "Epoch 30: Test loss 0.49193546267897276\n",
      "Epoch 31: Test loss 0.4894775168017871\n",
      "Epoch 32: Test loss 0.4870487196085799\n",
      "Epoch 33: Test loss 0.4846489743127512\n",
      "Epoch 34: Test loss 0.48227816830567427\n",
      "Epoch 35: Test loss 0.4799361739625081\n",
      "Epoch 36: Test loss 0.4776228494378767\n",
      "Epoch 37: Test loss 0.4753380394488637\n",
      "Epoch 38: Test loss 0.4730815760441015\n",
      "Epoch 39: Test loss 0.47085327935754584\n",
      "Epoch 40: Test loss 0.46865295834535947\n",
      "Epoch 41: Test loss 0.4664804115053893\n",
      "Epoch 42: Test loss 0.4643354275777211\n",
      "Epoch 43: Test loss 0.4622177862257897\n",
      "Epoch 44: Test loss 0.46012725869747106\n",
      "Epoch 45: Test loss 0.45806360846540867\n",
      "Epoch 46: Test loss 0.4560265918462426\n",
      "Epoch 47: Test loss 0.45401595859847926\n",
      "Epoch 48: Test loss 0.4520314524988705\n",
      "Epoch 49: Test loss 0.45007281189690856\n",
      "Epoch 50: Test loss 0.4481397702477473\n",
      "Epoch 51: Test loss 0.4462320566234675\n",
      "Epoch 52: Test loss 0.4443493962028065\n",
      "Epoch 53: Test loss 0.4424915107395434\n",
      "Epoch 54: Test loss 0.44065811900995494\n",
      "Epoch 55: Test loss 0.43884893723941076\n",
      "Epoch 56: Test loss 0.43706367950864605\n",
      "Epoch 57: Test loss 0.43530205814011214\n",
      "Epoch 58: Test loss 0.4335637840646937\n",
      "Epoch 59: Test loss 0.43184856716940806\n",
      "Epoch 60: Test loss 0.4301561166265461\n",
      "Epoch 61: Test loss 0.42848614120470024\n",
      "Epoch 62: Test loss 0.4268383495623055\n",
      "Epoch 63: Test loss 0.4252124505241254\n",
      "Epoch 64: Test loss 0.42360815334133467\n",
      "Epoch 65: Test loss 0.42202516793576794\n",
      "Epoch 66: Test loss 0.42046320512874863\n",
      "Epoch 67: Test loss 0.4189219768552439\n",
      "Epoch 68: Test loss 0.41740119636380857\n",
      "Epoch 69: Test loss 0.41590057840295175\n",
      "Epoch 70: Test loss 0.41441983939427696\n",
      "Epoch 71: Test loss 0.4129586975933268\n",
      "Epoch 72: Test loss 0.41151687323827\n",
      "Epoch 73: Test loss 0.41009408868719094\n",
      "Epoch 74: Test loss 0.40869006854447437\n",
      "Epoch 75: Test loss 0.40730453977672765\n",
      "Epoch 76: Test loss 0.40593723181881003\n",
      "Epoch 77: Test loss 0.40458787667040513\n",
      "Epoch 78: Test loss 0.40325620898362063\n",
      "Epoch 79: Test loss 0.4019419661420826\n",
      "Epoch 80: Test loss 0.4006448883319348\n",
      "Epoch 81: Test loss 0.3993647186052059\n",
      "Epoch 82: Test loss 0.3981012029359562\n",
      "Epoch 83: Test loss 0.39685409026956847\n",
      "Epoch 84: Test loss 0.39562313256558396\n",
      "Epoch 85: Test loss 0.39440808483444456\n",
      "Epoch 86: Test loss 0.3932087051685719\n",
      "Epoch 87: Test loss 0.3920247547679521\n",
      "Epoch 88: Test loss 0.39085599796073306\n",
      "Epoch 89: Test loss 0.38970220221906027\n",
      "Epoch 90: Test loss 0.3885631381704337\n",
      "Epoch 91: Test loss 0.3874385796049036\n",
      "Epoch 92: Test loss 0.38632830347838176\n",
      "Epoch 93: Test loss 0.3852320899123199\n",
      "Epoch 94: Test loss 0.38414972218996524\n",
      "Epoch 95: Test loss 0.38308098674951835\n",
      "Epoch 96: Test loss 0.3820256731742948\n",
      "Epoch 97: Test loss 0.3809835741802311\n",
      "Epoch 98: Test loss 0.3799544856008311\n",
      "Epoch 99: Test loss 0.37893820636984105\n",
      "47.71986770629883 seconds elapsed.\n"
     ]
    }
   ],
   "source": [
    "x = np.random.normal(0.0, 1.0, (10,))\n",
    "y = np.random.normal(0.0, 1.0, (2,))\n",
    "\n",
    "dnn = DNN(hidden_depth=5, num_neuron=32, num_input=10, num_output=2, activation=sigmoid)\n",
    "\n",
    "t = time.time()\n",
    "for epoch in range(100):\n",
    "    loss = gradient_descent(dnn, x, y, mean_squared_error, 0.01)\n",
    "    print('Epoch {}: Test loss {}'.format(epoch, loss))\n",
    "print('{} seconds elapsed.'.format(time.time() - t))"
   ]
  }
 ],
 "metadata": {
  "kernelspec": {
   "display_name": "Python 3",
   "language": "python",
   "name": "python3"
  },
  "language_info": {
   "codemirror_mode": {
    "name": "ipython",
    "version": 3
   },
   "file_extension": ".py",
   "mimetype": "text/x-python",
   "name": "python",
   "nbconvert_exporter": "python",
   "pygments_lexer": "ipython3",
   "version": "3.7.0"
  }
 },
 "nbformat": 4,
 "nbformat_minor": 2
}
